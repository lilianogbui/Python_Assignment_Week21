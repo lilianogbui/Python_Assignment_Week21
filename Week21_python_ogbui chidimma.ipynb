{
 "cells": [
  {
   "cell_type": "markdown",
   "id": "09d82516-2f68-4eb5-bfc1-90609dbe1a66",
   "metadata": {},
   "source": [
    "# VARIABLES"
   ]
  },
  {
   "cell_type": "code",
   "execution_count": 2,
   "id": "8c491f8b-af8a-4942-bf78-57de42c4af73",
   "metadata": {},
   "outputs": [
    {
     "name": "stdout",
     "output_type": "stream",
     "text": [
      "22\n"
     ]
    }
   ],
   "source": [
    "x=22\n",
    "print(x)"
   ]
  },
  {
   "cell_type": "code",
   "execution_count": null,
   "id": "94cd3961-be40-46ea-8097-878d973a380c",
   "metadata": {},
   "outputs": [],
   "source": [
    "type(x)\n",
    "int"
   ]
  },
  {
   "cell_type": "code",
   "execution_count": 5,
   "id": "5e822584-7342-4904-8918-f2570a9ec581",
   "metadata": {},
   "outputs": [
    {
     "name": "stdout",
     "output_type": "stream",
     "text": [
      "Mint Chocolate chip\n"
     ]
    }
   ],
   "source": [
    "y='Mint Chocolate chip'\n",
    "print(y)"
   ]
  },
  {
   "cell_type": "code",
   "execution_count": 6,
   "id": "633373b7-dc00-4d71-b7d4-48d28a9c0e3a",
   "metadata": {},
   "outputs": [
    {
     "data": {
      "text/plain": [
       "str"
      ]
     },
     "execution_count": 6,
     "metadata": {},
     "output_type": "execute_result"
    }
   ],
   "source": [
    "type(y)"
   ]
  },
  {
   "cell_type": "code",
   "execution_count": 9,
   "id": "2ef7f1b3-dfe3-4a89-aa7f-4c90e7531385",
   "metadata": {},
   "outputs": [
    {
     "name": "stdout",
     "output_type": "stream",
     "text": [
      "Mint Chocolate chip\n"
     ]
    }
   ],
   "source": [
    "y='chocolate'\n",
    "Y='Mint Chocolate chip'\n",
    "print(Y)"
   ]
  },
  {
   "cell_type": "code",
   "execution_count": 11,
   "id": "abda3a0d-0ce5-4e9e-ba1f-846945a18dcb",
   "metadata": {},
   "outputs": [
    {
     "name": "stdout",
     "output_type": "stream",
     "text": [
      "Chocolate\n",
      "Vanilla\n",
      "Rocky Road\n"
     ]
    }
   ],
   "source": [
    "x,y,z='Chocolate','Vanilla','Rocky Road'\n",
    "\n",
    "print(x)\n",
    "print(y)\n",
    "print(z)"
   ]
  },
  {
   "cell_type": "code",
   "execution_count": 12,
   "id": "d93bc3c2-5976-4a43-bfd6-f59163ba2c5a",
   "metadata": {},
   "outputs": [
    {
     "name": "stdout",
     "output_type": "stream",
     "text": [
      "Root Beer Float\n",
      "Root Beer Float\n",
      "Root Beer Float\n"
     ]
    }
   ],
   "source": [
    "x=y=z='Root Beer Float'\n",
    "\n",
    "print(x)\n",
    "print(y)\n",
    "print(z)"
   ]
  },
  {
   "cell_type": "code",
   "execution_count": 13,
   "id": "3e7c85ac-019c-42e2-9b44-497a969ab6cc",
   "metadata": {},
   "outputs": [
    {
     "name": "stdout",
     "output_type": "stream",
     "text": [
      "Chocolate\n",
      "Vanilla\n",
      "Rocky Road\n"
     ]
    }
   ],
   "source": [
    "ice_cream =['Chocolate','Vanilla','Rocky Road']\n",
    "x,y,z = ice_cream\n",
    "\n",
    "print(x)\n",
    "print(y)\n",
    "print(z)"
   ]
  },
  {
   "cell_type": "code",
   "execution_count": null,
   "id": "f3813c27-e73f-4f2c-a7a7-85acb28cae8d",
   "metadata": {},
   "outputs": [],
   "source": []
  },
  {
   "cell_type": "code",
   "execution_count": null,
   "id": "3e2be12d-759e-4f49-a994-ef74bd939979",
   "metadata": {},
   "outputs": [],
   "source": [
    "# Camel case\n",
    "#Test Variable case\n",
    "testvariablecase ='vanilla swirl'"
   ]
  },
  {
   "cell_type": "code",
   "execution_count": null,
   "id": "aef91fee-3dba-471c-bfd1-cbabd5a088a5",
   "metadata": {},
   "outputs": [],
   "source": [
    "# Pascal case\n",
    "#Test Variable case\n",
    "testvariablecase ='vanilla swirl'"
   ]
  },
  {
   "cell_type": "code",
   "execution_count": null,
   "id": "a9055f97-522b-46ba-87fc-ef6e3712fb55",
   "metadata": {},
   "outputs": [],
   "source": [
    "# Snake case\n",
    "#Test Variable case\n",
    "test_variable_case ='vanilla swirl'"
   ]
  },
  {
   "cell_type": "code",
   "execution_count": null,
   "id": "c18cf53d-b53c-4bd9-b8c2-f03d49a9bcba",
   "metadata": {},
   "outputs": [],
   "source": [
    "testvar ='vanilla swirl'\n",
    "test_var ='vanilla swirl'\n",
    "_test_var ='vanilla swirl'\n",
    "testVar ='vanilla swirl'\n",
    "TestVar ='vanilla swirl'\n",
    "testVar2 ='vanilla swirl'"
   ]
  },
  {
   "cell_type": "code",
   "execution_count": null,
   "id": "7d3f5a55-0465-4672-96e5-67eea5b64cad",
   "metadata": {},
   "outputs": [],
   "source": []
  },
  {
   "cell_type": "code",
   "execution_count": 15,
   "id": "684b14df-ac43-477e-8090-694effcc44bb",
   "metadata": {},
   "outputs": [
    {
     "name": "stdout",
     "output_type": "stream",
     "text": [
      "ice cream is my favorite.\n"
     ]
    }
   ],
   "source": [
    "x ='ice cream is my favorite' + '.'\n",
    "print(x)"
   ]
  },
  {
   "cell_type": "code",
   "execution_count": null,
   "id": "71f36a87-e32c-4aa2-aee0-2a20f0fc5bd9",
   "metadata": {},
   "outputs": [],
   "source": []
  },
  {
   "cell_type": "code",
   "execution_count": 16,
   "id": "f67a5786-87fa-4611-965a-fc6d97459848",
   "metadata": {},
   "outputs": [
    {
     "name": "stdout",
     "output_type": "stream",
     "text": [
      "5\n"
     ]
    }
   ],
   "source": [
    "y =3+2\n",
    "print(y)"
   ]
  },
  {
   "cell_type": "code",
   "execution_count": null,
   "id": "4f55a127-50b5-4f2a-905f-d866987bf084",
   "metadata": {},
   "outputs": [],
   "source": []
  },
  {
   "cell_type": "code",
   "execution_count": 17,
   "id": "6aa8b1cc-f786-4e36-b052-feac9c6ae987",
   "metadata": {},
   "outputs": [
    {
     "name": "stdout",
     "output_type": "stream",
     "text": [
      "ice cream ismy favorite.\n"
     ]
    }
   ],
   "source": [
    "x='ice cream'\n",
    "y=' is'\n",
    "z='my favorite.'\n",
    "\n",
    "print(x+y+z)"
   ]
  },
  {
   "cell_type": "code",
   "execution_count": null,
   "id": "e0f299ab-d3e8-40c6-83d9-3f63adde1adf",
   "metadata": {},
   "outputs": [],
   "source": []
  },
  {
   "cell_type": "code",
   "execution_count": 18,
   "id": "8fd75e35-b6b5-4699-87dc-d943ef472325",
   "metadata": {},
   "outputs": [
    {
     "name": "stdout",
     "output_type": "stream",
     "text": [
      "6\n"
     ]
    }
   ],
   "source": [
    "x=1\n",
    "y=2\n",
    "z=3\n",
    "\n",
    "print(x+y+z)"
   ]
  },
  {
   "cell_type": "code",
   "execution_count": null,
   "id": "4714f489-4410-45fb-928d-b20fb41a50d2",
   "metadata": {},
   "outputs": [],
   "source": []
  },
  {
   "cell_type": "code",
   "execution_count": 19,
   "id": "0eefa56d-43f2-4299-984b-f872aa49c131",
   "metadata": {},
   "outputs": [
    {
     "name": "stdout",
     "output_type": "stream",
     "text": [
      "ice cream 2\n"
     ]
    }
   ],
   "source": [
    "x='ice cream'\n",
    "y=2\n",
    "\n",
    "print(x,y)"
   ]
  },
  {
   "cell_type": "code",
   "execution_count": null,
   "id": "029218b7-d403-4e40-be32-b9ca36940ef6",
   "metadata": {},
   "outputs": [],
   "source": []
  },
  {
   "cell_type": "markdown",
   "id": "80f82b04-5a47-46b6-a737-823876ada1be",
   "metadata": {},
   "source": []
  },
  {
   "cell_type": "markdown",
   "id": "882bedc8-29f3-4e6c-81af-bc29c165af49",
   "metadata": {},
   "source": [
    "# FOR LOOPS"
   ]
  },
  {
   "cell_type": "code",
   "execution_count": 2,
   "id": "c63c636c-e561-4fb6-a8f3-f70c6e583d67",
   "metadata": {},
   "outputs": [],
   "source": [
    "integers = [1,2,3,4,5]"
   ]
  },
  {
   "cell_type": "code",
   "execution_count": 3,
   "id": "798c3a11-971c-479a-92bb-c4cdd3efcfff",
   "metadata": {},
   "outputs": [
    {
     "name": "stdout",
     "output_type": "stream",
     "text": [
      "1\n",
      "2\n",
      "3\n",
      "4\n",
      "5\n"
     ]
    }
   ],
   "source": [
    "for number in integers:\n",
    "    print(number)"
   ]
  },
  {
   "cell_type": "code",
   "execution_count": null,
   "id": "a8f11400-e654-411d-bc9b-99a9a16009e9",
   "metadata": {},
   "outputs": [],
   "source": []
  },
  {
   "cell_type": "code",
   "execution_count": 4,
   "id": "b9cc0d75-1caa-4d3b-859d-0f14943e53be",
   "metadata": {},
   "outputs": [
    {
     "name": "stdout",
     "output_type": "stream",
     "text": [
      "yep!\n",
      "yep!\n",
      "yep!\n",
      "yep!\n",
      "yep!\n"
     ]
    }
   ],
   "source": [
    "for number in integers:\n",
    "    print('yep!')"
   ]
  },
  {
   "cell_type": "code",
   "execution_count": null,
   "id": "a6dafee1-4041-4087-b38b-15c6a19664c8",
   "metadata": {},
   "outputs": [],
   "source": [
    "integers = [1,2,3,4,5]"
   ]
  },
  {
   "cell_type": "code",
   "execution_count": 5,
   "id": "105b376f-6c51-4797-b767-2f0e3d46888b",
   "metadata": {},
   "outputs": [
    {
     "name": "stdout",
     "output_type": "stream",
     "text": [
      "2\n",
      "4\n",
      "6\n",
      "8\n",
      "10\n"
     ]
    }
   ],
   "source": [
    "for jelly in integers:\n",
    "    print(jelly+jelly)"
   ]
  },
  {
   "cell_type": "code",
   "execution_count": 6,
   "id": "1a13c16d-6a9c-44fe-b707-05da623fad95",
   "metadata": {},
   "outputs": [],
   "source": [
    "ice_cream_dict ={'name': 'Alex Freberg','Weekly intake' : 5, 'favorite ice cream':['MCC','chocolate']}"
   ]
  },
  {
   "cell_type": "code",
   "execution_count": 8,
   "id": "9dbfd532-4bac-4fd6-a41d-0baa8127d680",
   "metadata": {},
   "outputs": [
    {
     "name": "stdout",
     "output_type": "stream",
     "text": [
      "Alex Freberg\n",
      "5\n",
      "['MCC', 'chocolate']\n"
     ]
    }
   ],
   "source": [
    "for cream in ice_cream_dict.values():\n",
    "    print(cream)"
   ]
  },
  {
   "cell_type": "code",
   "execution_count": 10,
   "id": "4615334e-8312-48e1-9578-9fc9352878ea",
   "metadata": {},
   "outputs": [
    {
     "name": "stdout",
     "output_type": "stream",
     "text": [
      "name -> Alex Freberg\n",
      "Weekly intake -> 5\n",
      "favorite ice cream -> ['MCC', 'chocolate']\n"
     ]
    }
   ],
   "source": [
    "for key, value in ice_cream_dict.items():\n",
    "    print(key, '->',value)"
   ]
  },
  {
   "cell_type": "code",
   "execution_count": null,
   "id": "d75f53a9-b4ef-48eb-996a-41e52641872f",
   "metadata": {},
   "outputs": [],
   "source": []
  },
  {
   "cell_type": "code",
   "execution_count": null,
   "id": "7f40074d-8a90-4206-8db8-7eed96c0c7fb",
   "metadata": {},
   "outputs": [],
   "source": []
  },
  {
   "cell_type": "markdown",
   "id": "6ef91bf5-b83f-477e-9fbc-6f1950f655b9",
   "metadata": {},
   "source": [
    "# NESTED FOR LOOPS"
   ]
  },
  {
   "cell_type": "code",
   "execution_count": 11,
   "id": "ee14de73-4165-4642-9cf4-7bac980b94bd",
   "metadata": {},
   "outputs": [],
   "source": [
    "flavors = ['Vanilla','Chocolate','Cookie Dough']\n",
    "toppings =['Hot Fudge','Oreos','Marshmellows']"
   ]
  },
  {
   "cell_type": "code",
   "execution_count": 13,
   "id": "f1feae18-87af-4aed-9cb6-9553b0ec19c2",
   "metadata": {},
   "outputs": [
    {
     "name": "stdout",
     "output_type": "stream",
     "text": [
      "Vanilla topped with Hot Fudge\n",
      "Vanilla topped with Oreos\n",
      "Vanilla topped with Marshmellows\n",
      "Chocolate topped with Hot Fudge\n",
      "Chocolate topped with Oreos\n",
      "Chocolate topped with Marshmellows\n",
      "Cookie Dough topped with Hot Fudge\n",
      "Cookie Dough topped with Oreos\n",
      "Cookie Dough topped with Marshmellows\n"
     ]
    }
   ],
   "source": [
    "for one in flavors:\n",
    "    for two in toppings:\n",
    "        print(one,'topped with',two)"
   ]
  },
  {
   "cell_type": "code",
   "execution_count": null,
   "id": "4a25c47c-73cd-4e93-8286-86085448ba93",
   "metadata": {},
   "outputs": [],
   "source": []
  },
  {
   "cell_type": "code",
   "execution_count": null,
   "id": "3b61b952-d60a-495e-a321-88cc3ef5580a",
   "metadata": {},
   "outputs": [],
   "source": []
  },
  {
   "cell_type": "markdown",
   "id": "fa2b5f13-2585-4baa-a951-55adab2a4433",
   "metadata": {},
   "source": [
    "# FUNCTIONS"
   ]
  },
  {
   "cell_type": "code",
   "execution_count": 14,
   "id": "bec0effe-689e-4b27-a453-ccc6b4ad6f7f",
   "metadata": {},
   "outputs": [],
   "source": [
    "def first_func():\n",
    "    print('We did it!')"
   ]
  },
  {
   "cell_type": "code",
   "execution_count": 17,
   "id": "3705ae68-6a35-47dd-8e37-0d8e09d6ebcd",
   "metadata": {},
   "outputs": [
    {
     "name": "stdout",
     "output_type": "stream",
     "text": [
      "We did it!\n"
     ]
    }
   ],
   "source": [
    "first_func()"
   ]
  },
  {
   "cell_type": "code",
   "execution_count": 18,
   "id": "062cb96f-7a9a-47ea-bf7a-ade30a96830d",
   "metadata": {},
   "outputs": [],
   "source": [
    "def number_squared(number):\n",
    "    print(number**2)"
   ]
  },
  {
   "cell_type": "code",
   "execution_count": 19,
   "id": "87421fd3-6869-4f06-8893-53bbb1ae21fe",
   "metadata": {},
   "outputs": [
    {
     "name": "stdout",
     "output_type": "stream",
     "text": [
      "25\n"
     ]
    }
   ],
   "source": [
    " number_squared(5)"
   ]
  },
  {
   "cell_type": "code",
   "execution_count": 20,
   "id": "8b0399ec-7266-48b7-ad84-e82f449b5b46",
   "metadata": {},
   "outputs": [],
   "source": [
    "def number_squared_cust(number,power):\n",
    "    print(number**power)"
   ]
  },
  {
   "cell_type": "code",
   "execution_count": 21,
   "id": "c11aa982-50b5-4995-95e5-f89131ac43c1",
   "metadata": {},
   "outputs": [
    {
     "name": "stdout",
     "output_type": "stream",
     "text": [
      "125\n"
     ]
    }
   ],
   "source": [
    " number_squared_cust(5,3)"
   ]
  },
  {
   "cell_type": "code",
   "execution_count": 24,
   "id": "b3550cff-8a3d-4b0c-b6e8-be9d3eae96e6",
   "metadata": {},
   "outputs": [],
   "source": [
    "args_tuple =(5,6,1,2,8)\n",
    "\n",
    "def number_args(*number):\n",
    "    print(number[0]*number[1])"
   ]
  },
  {
   "cell_type": "code",
   "execution_count": 26,
   "id": "424d2e34-8edc-40d0-b065-8f1484a7ce26",
   "metadata": {},
   "outputs": [
    {
     "name": "stdout",
     "output_type": "stream",
     "text": [
      "30\n"
     ]
    }
   ],
   "source": [
    "number_args(*args_tuple)"
   ]
  },
  {
   "cell_type": "code",
   "execution_count": null,
   "id": "7a696c53-c0d8-4b25-9622-7f9b6c5aee47",
   "metadata": {},
   "outputs": [],
   "source": []
  },
  {
   "cell_type": "code",
   "execution_count": 28,
   "id": "1d8d745d-fbc3-4153-9b45-452eff95c0af",
   "metadata": {},
   "outputs": [],
   "source": [
    "def number_squared_cust(number,power):\n",
    "    print(number**power)"
   ]
  },
  {
   "cell_type": "code",
   "execution_count": 30,
   "id": "b9b4ae05-2da6-4cf5-b657-9629588b45bc",
   "metadata": {},
   "outputs": [
    {
     "name": "stdout",
     "output_type": "stream",
     "text": [
      "243\n"
     ]
    }
   ],
   "source": [
    " number_squared_cust(power =5,number=3)"
   ]
  },
  {
   "cell_type": "code",
   "execution_count": 33,
   "id": "1a91c818-9238-4c4f-904a-368df7233484",
   "metadata": {},
   "outputs": [],
   "source": [
    "def number_kwarg(**number):\n",
    "    print('My number is: ' + number['integer']+ 'My other number: ' + number['integer2'])"
   ]
  },
  {
   "cell_type": "code",
   "execution_count": 34,
   "id": "5c765a08-a8a7-4b80-b01c-e0406e1bd7d6",
   "metadata": {},
   "outputs": [
    {
     "name": "stdout",
     "output_type": "stream",
     "text": [
      "My number is: 2309My other number: 349\n"
     ]
    }
   ],
   "source": [
    "number_kwarg(integer = '2309',integer2 = '349')"
   ]
  },
  {
   "cell_type": "code",
   "execution_count": null,
   "id": "3aa7393c-82a5-45af-9e45-533b76fadba4",
   "metadata": {},
   "outputs": [],
   "source": []
  },
  {
   "cell_type": "code",
   "execution_count": null,
   "id": "3ea060e9-d621-484d-b556-f7a5b4b47cc8",
   "metadata": {},
   "outputs": [],
   "source": []
  },
  {
   "cell_type": "code",
   "execution_count": null,
   "id": "f3cf740c-e8c5-4871-b8df-c21406c652e7",
   "metadata": {},
   "outputs": [],
   "source": []
  },
  {
   "cell_type": "code",
   "execution_count": null,
   "id": "0e5796cf-e50e-490f-ae2a-c3c0d2928d59",
   "metadata": {},
   "outputs": [],
   "source": []
  },
  {
   "cell_type": "code",
   "execution_count": null,
   "id": "be3582ba-efec-449a-a682-5ffffb6de508",
   "metadata": {},
   "outputs": [],
   "source": []
  },
  {
   "cell_type": "code",
   "execution_count": null,
   "id": "435e894e-eea0-44bd-b9a7-285835e2e3ca",
   "metadata": {},
   "outputs": [],
   "source": []
  },
  {
   "cell_type": "code",
   "execution_count": null,
   "id": "75245b28-66ae-433a-8ee3-9500a078def7",
   "metadata": {},
   "outputs": [],
   "source": []
  },
  {
   "cell_type": "code",
   "execution_count": null,
   "id": "1ab312bb-e959-49db-ad46-57031357ffab",
   "metadata": {},
   "outputs": [],
   "source": []
  },
  {
   "cell_type": "code",
   "execution_count": null,
   "id": "59bf8c9d-1401-472f-b344-b96d93cb3550",
   "metadata": {},
   "outputs": [],
   "source": []
  }
 ],
 "metadata": {
  "kernelspec": {
   "display_name": "Python 3 (ipykernel)",
   "language": "python",
   "name": "python3"
  },
  "language_info": {
   "codemirror_mode": {
    "name": "ipython",
    "version": 3
   },
   "file_extension": ".py",
   "mimetype": "text/x-python",
   "name": "python",
   "nbconvert_exporter": "python",
   "pygments_lexer": "ipython3",
   "version": "3.13.5"
  }
 },
 "nbformat": 4,
 "nbformat_minor": 5
}
